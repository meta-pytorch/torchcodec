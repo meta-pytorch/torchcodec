{
  "cells": [
    {
      "cell_type": "markdown",
      "metadata": {},
      "source": [
        "\n# Decoding with custom frame mappings\n\nIn this example, we will describe the ``custom_frame_mappings`` parameter of the\n:class:`~torchcodec.decoders.VideoDecoder` class.\nThis parameter allows you to provide pre-computed frame mapping information to\nspeed up :class:`~torchcodec.decoders.VideoDecoder` instantiation, while\nmaintaining the frame seeking accuracy of ``seek_mode=\"exact\"``.\n\nThis makes it ideal for workflows where:\n\n    1. Frame accuracy is critical, so :doc:`approximate mode <approximate_mode>` cannot be used\n    2. Videos can be preprocessed once and then decoded many times\n"
      ]
    },
    {
      "cell_type": "markdown",
      "metadata": {},
      "source": [
        "First, some boilerplate: we'll download a short video from the web, and\nuse ffmpeg to create a longer version by repeating it multiple times. We'll end up\nwith two videos: a short one of approximately 14 seconds and a long one of about 12 minutes.\nYou can ignore this part and skip below to `frame_mappings_creation`.\n\n"
      ]
    },
    {
      "cell_type": "code",
      "execution_count": null,
      "metadata": {
        "collapsed": false
      },
      "outputs": [],
      "source": [
        "import tempfile\nfrom pathlib import Path\nimport subprocess\nimport requests\n\n# Video source: https://www.pexels.com/video/dog-eating-854132/\n# License: CC0. Author: Coverr.\nurl = \"https://videos.pexels.com/video-files/854132/854132-sd_640_360_25fps.mp4\"\nresponse = requests.get(url, headers={\"User-Agent\": \"\"})\nif response.status_code != 200:\n    raise RuntimeError(f\"Failed to download video. {response.status_code = }.\")\n\ntemp_dir = tempfile.mkdtemp()\nshort_video_path = Path(temp_dir) / \"short_video.mp4\"\nwith open(short_video_path, 'wb') as f:\n    for chunk in response.iter_content():\n        f.write(chunk)\n\nlong_video_path = Path(temp_dir) / \"long_video.mp4\"\nffmpeg_command = [\n    \"ffmpeg\",\n    \"-stream_loop\", \"50\",  # repeat video 50 times to get a ~12 min video\n    \"-i\", f\"{short_video_path}\",\n    \"-c\", \"copy\",\n    f\"{long_video_path}\"\n]\nsubprocess.run(ffmpeg_command, check=True, stdout=subprocess.PIPE, stderr=subprocess.PIPE)\n\nfrom torchcodec.decoders import VideoDecoder\nprint(f\"Short video duration: {VideoDecoder(short_video_path).metadata.duration_seconds} seconds\")\nprint(f\"Long video duration: {VideoDecoder(long_video_path).metadata.duration_seconds / 60} minutes\")"
      ]
    },
    {
      "cell_type": "markdown",
      "metadata": {},
      "source": [
        "\n## Creating custom frame mappings with ffprobe\n\nTo generate JSON files containing the required video metadata, we recommend using ffprobe.\nThe following frame metadata fields are needed\n(the ``pkt_`` prefix is needed for older versions of FFmpeg):\n\n- ``pts`` / ``pkt_pts``:  Presentation timestamps for each frame\n- ``duration`` / ``pkt_duration``: Duration of each frame\n- ``key_frame``: Boolean indicating which frames are key frames\n\n"
      ]
    },
    {
      "cell_type": "code",
      "execution_count": null,
      "metadata": {
        "collapsed": false
      },
      "outputs": [],
      "source": [
        "from pathlib import Path\nimport subprocess\nimport tempfile\nfrom time import perf_counter_ns\nimport json\n\n\n# Lets define a simple function to run ffprobe on a video's first stream index, then writes the results in output_json_path.\ndef generate_frame_mappings(video_path, output_json_path, stream_index):\n    ffprobe_cmd = [\"ffprobe\", \"-i\", f\"{video_path}\", \"-select_streams\", f\"{stream_index}\", \"-show_frames\", \"-show_entries\", \"frame=pts,duration,key_frame\", \"-of\", \"json\"]\n    print(f\"Running ffprobe:\\n{' '.join(ffprobe_cmd)}\\n\")\n    ffprobe_result = subprocess.run(ffprobe_cmd, check=True, capture_output=True, text=True)\n    with open(output_json_path, \"w\") as f:\n        f.write(ffprobe_result.stdout)\n\n\nstream_index = 0\nlong_json_path = Path(temp_dir) / \"long_custom_frame_mappings.json\"\nshort_json_path = Path(temp_dir) / \"short_custom_frame_mappings.json\"\n\ngenerate_frame_mappings(long_video_path, long_json_path, stream_index)\ngenerate_frame_mappings(short_video_path, short_json_path, stream_index)\nwith open(short_json_path) as f:\n    sample_data = json.loads(f.read())\nprint(\"Sample of fields in custom frame mappings:\")\nfor frame in sample_data[\"frames\"][:3]:\n    print(f\"{frame['key_frame'] = }, {frame['pts'] = }, {frame['duration'] = }\")"
      ]
    },
    {
      "cell_type": "markdown",
      "metadata": {},
      "source": [
        "\n## Performance: ``VideoDecoder`` creation\n\nCustom frame mappings affect the **creation** of a :class:`~torchcodec.decoders.VideoDecoder`\nobject. As video length or resolution increases, the performance gain compared to exact mode increases.\n\n\n"
      ]
    },
    {
      "cell_type": "code",
      "execution_count": null,
      "metadata": {
        "collapsed": false
      },
      "outputs": [],
      "source": [
        "import torch\n\n\n# Here, we define a benchmarking function, with the option to seek to the start of a file_like.\ndef bench(f, file_like=False, average_over=50, warmup=2, **f_kwargs):\n    for _ in range(warmup):\n        f(**f_kwargs)\n        if file_like:\n            f_kwargs[\"custom_frame_mappings\"].seek(0)\n\n    times = []\n    for _ in range(average_over):\n        start = perf_counter_ns()\n        f(**f_kwargs)\n        end = perf_counter_ns()\n        times.append(end - start)\n        if file_like:\n            f_kwargs[\"custom_frame_mappings\"].seek(0)\n\n    times = torch.tensor(times) * 1e-6  # ns to ms\n    std = times.std().item()\n    med = times.median().item()\n    print(f\"{med = :.2f}ms +- {std:.2f}\")\n\n\nfor video_path, json_path in ((short_video_path, short_json_path), (long_video_path, long_json_path)):\n    print(f\"\\nRunning benchmarks on {Path(video_path).name}\")\n\n    print(\"Creating a VideoDecoder object with custom_frame_mappings:\")\n    with open(json_path, \"r\") as f:\n        bench(VideoDecoder, file_like=True, source=video_path, stream_index=stream_index, custom_frame_mappings=f)\n\n    # Compare against exact seek_mode\n    print(\"Creating a VideoDecoder object with seek_mode='exact':\")\n    bench(VideoDecoder, source=video_path, stream_index=stream_index, seek_mode=\"exact\")"
      ]
    },
    {
      "cell_type": "markdown",
      "metadata": {},
      "source": [
        "## Performance: Frame decoding with custom frame mappings\n\nAlthough using ``custom_frame_mappings`` only impacts the initialization speed of\n:class:`~torchcodec.decoders.VideoDecoder`, decoding workflows\ninvolve creating a :class:`~torchcodec.decoders.VideoDecoder` instance,\nso the performance benefits are realized.\n\n"
      ]
    },
    {
      "cell_type": "code",
      "execution_count": null,
      "metadata": {
        "collapsed": false
      },
      "outputs": [],
      "source": [
        "def decode_frames(video_path, seek_mode = \"exact\", custom_frame_mappings = None):\n    decoder = VideoDecoder(\n        source=video_path,\n        seek_mode=seek_mode,\n        custom_frame_mappings=custom_frame_mappings\n    )\n    decoder.get_frames_in_range(start=0, stop=10)\n\n\nfor video_path, json_path in ((short_video_path, short_json_path), (long_video_path, long_json_path)):\n    print(f\"\\nRunning benchmarks on {Path(video_path).name}\")\n    print(\"Decoding frames with custom_frame_mappings:\")\n    with open(json_path, \"r\") as f:\n        bench(decode_frames, file_like=True, video_path=video_path, custom_frame_mappings=f)\n\n    print(\"Decoding frames with seek_mode='exact':\")\n    bench(decode_frames, video_path=video_path, seek_mode=\"exact\")"
      ]
    },
    {
      "cell_type": "markdown",
      "metadata": {},
      "source": [
        "## Accuracy: Metadata and frame retrieval\n\nIn addition to the instantiation speed up compared to ``seek_mode=\"exact\"``, using custom frame mappings\nalso retains the benefit of exact metadata and frame seeking.\n\n\n"
      ]
    },
    {
      "cell_type": "code",
      "execution_count": null,
      "metadata": {
        "collapsed": false
      },
      "outputs": [],
      "source": [
        "print(\"Metadata of short video with custom_frame_mappings:\")\nwith open(short_json_path, \"r\") as f:\n    print(VideoDecoder(short_video_path, custom_frame_mappings=f).metadata)\nprint(\"Metadata of short video with seek_mode='exact':\")\nprint(VideoDecoder(short_video_path, seek_mode=\"exact\").metadata)\n\nwith open(short_json_path, \"r\") as f:\n    custom_frame_mappings_decoder = VideoDecoder(short_video_path, custom_frame_mappings=f)\nexact_decoder = VideoDecoder(short_video_path, seek_mode=\"exact\")\nfor i in range(len(exact_decoder)):\n    torch.testing.assert_close(\n        exact_decoder.get_frame_at(i).data,\n        custom_frame_mappings_decoder.get_frame_at(i).data,\n        atol=0, rtol=0,\n    )\nprint(\"Frame seeking is the same for this video!\")"
      ]
    },
    {
      "cell_type": "markdown",
      "metadata": {},
      "source": [
        "## How do custom_frame_mappings help?\n\nCustom frame mappings contain the same frame index information\nthat would normally be computed during the :term:`scan` operation in exact mode.\nBy providing this information to the :class:`~torchcodec.decoders.VideoDecoder`\nas a JSON, it eliminates the need for the expensive scan while preserving the\naccuracy benefits.\n\n## Which mode should I use?\n\n- For fastest decoding when speed is more important than exact seeking accuracy,\n  \"approximate\" mode is recommended.\n\n- For exact frame seeking, custom frame mappings will benefit workflows where the\n  same videos are decoded repeatedly, and some preprocessing work can be done.\n\n- For exact frame seeking without preprocessing, use \"exact\" mode.\n\n"
      ]
    }
  ],
  "metadata": {
    "kernelspec": {
      "display_name": "Python 3",
      "language": "python",
      "name": "python3"
    },
    "language_info": {
      "codemirror_mode": {
        "name": "ipython",
        "version": 3
      },
      "file_extension": ".py",
      "mimetype": "text/x-python",
      "name": "python",
      "nbconvert_exporter": "python",
      "pygments_lexer": "ipython3",
      "version": "3.10.19"
    }
  },
  "nbformat": 4,
  "nbformat_minor": 0
}