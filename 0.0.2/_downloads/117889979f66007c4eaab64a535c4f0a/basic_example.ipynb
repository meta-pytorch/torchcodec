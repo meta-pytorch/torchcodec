{
  "cells": [
    {
      "cell_type": "markdown",
      "metadata": {},
      "source": [
        "\n# Decoding a video with SimpleVideoDecoder\n\nIn this example, we'll learn how to decode a video using the\n:class:`~torchcodec.decoders.SimpleVideoDecoder` class.\n"
      ]
    },
    {
      "cell_type": "markdown",
      "metadata": {},
      "source": [
        "First, a bit of boilerplate: we'll download a video from the web, and define a\nplotting utility. You can ignore that part and jump right below to\n`creating_decoder`.\n\n"
      ]
    },
    {
      "cell_type": "code",
      "execution_count": null,
      "metadata": {
        "collapsed": false
      },
      "outputs": [],
      "source": [
        "from typing import Optional\nimport torch\nimport requests\n\n\n# Video source: https://www.pexels.com/video/dog-eating-854132/\n# License: CC0. Author: Coverr.\nurl = \"https://videos.pexels.com/video-files/854132/854132-sd_640_360_25fps.mp4\"\nresponse = requests.get(url)\nif response.status_code != 200:\n    raise RuntimeError(f\"Failed to download video. {response.status_code = }.\")\n\nraw_video_bytes = response.content\n\n\ndef plot(frames: torch.Tensor, title : Optional[str] = None):\n    try:\n        from torchvision.utils import make_grid\n        from torchvision.transforms.v2.functional import to_pil_image\n        import matplotlib.pyplot as plt\n    except ImportError:\n        print(\"Cannot plot, please run `pip install torchvision matplotlib`\")\n        return\n\n    plt.rcParams[\"savefig.bbox\"] = 'tight'\n    fig, ax = plt.subplots()\n    ax.imshow(to_pil_image(make_grid(frames)))\n    ax.set(xticklabels=[], yticklabels=[], xticks=[], yticks=[])\n    if title is not None:\n        ax.set_title(title)\n    plt.tight_layout()"
      ]
    },
    {
      "cell_type": "markdown",
      "metadata": {},
      "source": [
        "\n## Creating a decoder\n\nWe can now create a decoder from the raw (encoded) video bytes. You can of\ncourse use a local video file and pass the path as input, rather than download\na video.\n\n"
      ]
    },
    {
      "cell_type": "code",
      "execution_count": null,
      "metadata": {
        "collapsed": false
      },
      "outputs": [],
      "source": [
        "from torchcodec.decoders import SimpleVideoDecoder\n\n# You can also pass a path to a local file!\ndecoder = SimpleVideoDecoder(raw_video_bytes)"
      ]
    },
    {
      "cell_type": "markdown",
      "metadata": {},
      "source": [
        "The has not yet been decoded by the decoder, but we already have access to\nsome metadata via the ``metadata`` attribute which is a\n:class:`~torchcodec.decoders.VideoStreamMetadata` object.\n\n"
      ]
    },
    {
      "cell_type": "code",
      "execution_count": null,
      "metadata": {
        "collapsed": false
      },
      "outputs": [],
      "source": [
        "print(decoder.metadata)"
      ]
    },
    {
      "cell_type": "markdown",
      "metadata": {},
      "source": [
        "## Decoding frames by indexing the decoder\n\n"
      ]
    },
    {
      "cell_type": "code",
      "execution_count": null,
      "metadata": {
        "collapsed": false
      },
      "outputs": [],
      "source": [
        "first_frame = decoder[0]  # using a single int index\nevery_twenty_frame = decoder[0 : -1 : 20]  # using slices\n\nprint(f\"{first_frame.shape = }\")\nprint(f\"{first_frame.dtype = }\")\nprint(f\"{every_twenty_frame.shape = }\")\nprint(f\"{every_twenty_frame.dtype = }\")"
      ]
    },
    {
      "cell_type": "markdown",
      "metadata": {},
      "source": [
        "Indexing the decoder returns the frames as :class:`torch.Tensor` objects.\nBy default, the shape of the frames is ``(N, C, H, W)`` where N is the batch\nsize C the number of channels, H is the height, and W is the width of the\nframes.  The batch dimension N is only present when we're decoding more than\none frame. The dimension order can be changed to ``N, H, W, C`` using the\n``dimension_order`` parameter of\n:class:`~torchcodec.decoders.SimpleVideoDecoder`. Frames are always of\n``torch.uint8`` dtype.\n\n\n"
      ]
    },
    {
      "cell_type": "code",
      "execution_count": null,
      "metadata": {
        "collapsed": false
      },
      "outputs": [],
      "source": [
        "plot(first_frame, \"First frame\")"
      ]
    },
    {
      "cell_type": "code",
      "execution_count": null,
      "metadata": {
        "collapsed": false
      },
      "outputs": [],
      "source": [
        "plot(every_twenty_frame, \"Every 20 frame\")"
      ]
    },
    {
      "cell_type": "markdown",
      "metadata": {},
      "source": [
        "## Iterating over frames\n\nThe decoder is a normal iterable object and can be iterated over like so:\n\n"
      ]
    },
    {
      "cell_type": "code",
      "execution_count": null,
      "metadata": {
        "collapsed": false
      },
      "outputs": [],
      "source": [
        "for frame in decoder:\n    assert (\n        isinstance(frame, torch.Tensor)\n        and frame.shape == (3, decoder.metadata.height, decoder.metadata.width)\n    )"
      ]
    },
    {
      "cell_type": "markdown",
      "metadata": {},
      "source": [
        "## Retrieving pts and duration of frames\n\nIndexing the decoder returns pure :class:`torch.Tensor` objects. Sometimes, it\ncan be useful to retrieve additional information about the frames, such as\ntheir :term:`pts` (Presentation Time Stamp), and their duration.\nThis can be achieved using the\n:meth:`~torchcodec.decoders.SimpleVideoDecoder.get_frame_at` and\n:meth:`~torchcodec.decoders.SimpleVideoDecoder.get_frames_at`  methods, which\nwill return a :class:`~torchcodec.decoders.Frame` and\n:class:`~torchcodec.decoders.FrameBatch` objects respectively.\n\n"
      ]
    },
    {
      "cell_type": "code",
      "execution_count": null,
      "metadata": {
        "collapsed": false
      },
      "outputs": [],
      "source": [
        "last_frame = decoder.get_frame_at(len(decoder) - 1)\nprint(f\"{type(last_frame) = }\")\nprint(last_frame)"
      ]
    },
    {
      "cell_type": "code",
      "execution_count": null,
      "metadata": {
        "collapsed": false
      },
      "outputs": [],
      "source": [
        "middle_frames = decoder.get_frames_at(start=10, stop=20, step=2)\nprint(f\"{type(middle_frames) = }\")\nprint(middle_frames)"
      ]
    },
    {
      "cell_type": "code",
      "execution_count": null,
      "metadata": {
        "collapsed": false
      },
      "outputs": [],
      "source": [
        "plot(last_frame.data, \"Last frame\")\nplot(middle_frames.data, \"Middle frames\")"
      ]
    },
    {
      "cell_type": "markdown",
      "metadata": {},
      "source": [
        "Both :class:`~torchcodec.decoders.Frame` and\n:class:`~torchcodec.decoders.FrameBatch` have a ``data`` field, which contains\nthe decoded tensor data. They also have the ``pts_seconds`` and\n``duration_seconds`` fields which are single ints for\n:class:`~torchcodec.decoders.Frame`, and 1-D :class:`torch.Tensor` for\n:class:`~torchcodec.decoders.FrameBatch` (one value per frame in the batch).\n\n"
      ]
    },
    {
      "cell_type": "markdown",
      "metadata": {},
      "source": [
        "## Using time-based indexing\n\nSo far, we have retrieved frames based on their index. We can also retrieve\nframes based on *when* they are displayed with\n:meth:`~torchcodec.decoders.SimpleVideoDecoder.get_frame_displayed_at` and\n:meth:`~torchcodec.decoders.SimpleVideoDecoder.get_frames_displayed_at`, which\nalso returns :class:`~torchcodec.decoders.Frame` and :class:`~torchcodec.decoders.FrameBatch`\nrespectively.\n\n"
      ]
    },
    {
      "cell_type": "code",
      "execution_count": null,
      "metadata": {
        "collapsed": false
      },
      "outputs": [],
      "source": [
        "frame_at_2_seconds = decoder.get_frame_displayed_at(seconds=2)\nprint(f\"{type(frame_at_2_seconds) = }\")\nprint(frame_at_2_seconds)"
      ]
    },
    {
      "cell_type": "code",
      "execution_count": null,
      "metadata": {
        "collapsed": false
      },
      "outputs": [],
      "source": [
        "first_two_seconds = decoder.get_frames_displayed_at(\n    start_seconds=0,\n    stop_seconds=2,\n)\nprint(f\"{type(first_two_seconds) = }\")\nprint(first_two_seconds)"
      ]
    },
    {
      "cell_type": "code",
      "execution_count": null,
      "metadata": {
        "collapsed": false
      },
      "outputs": [],
      "source": [
        "plot(frame_at_2_seconds.data, \"Frame displayed at 2 seconds\")\nplot(first_two_seconds.data, \"Frames displayed during [0, 2) seconds\")"
      ]
    }
  ],
  "metadata": {
    "kernelspec": {
      "display_name": "Python 3",
      "language": "python",
      "name": "python3"
    },
    "language_info": {
      "codemirror_mode": {
        "name": "ipython",
        "version": 3
      },
      "file_extension": ".py",
      "mimetype": "text/x-python",
      "name": "python",
      "nbconvert_exporter": "python",
      "pygments_lexer": "ipython3",
      "version": "3.12.2"
    }
  },
  "nbformat": 4,
  "nbformat_minor": 0
}