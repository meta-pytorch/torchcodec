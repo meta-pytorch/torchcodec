{
  "cells": [
    {
      "cell_type": "markdown",
      "metadata": {},
      "source": [
        "\n# Exact vs Approximate seek mode: Performance and accuracy comparison\n\nIn this example, we will describe the ``seek_mode`` parameter of the\n:class:`~torchcodec.decoders.VideoDecoder` class.\nThis parameter offers a trade-off between the speed of the\n:class:`~torchcodec.decoders.VideoDecoder` creation, against the seeking\naccuracy of the retreived frames (i.e. in approximate mode, requesting the\n``i``'th frame may not necessarily return frame ``i``).\n"
      ]
    },
    {
      "cell_type": "markdown",
      "metadata": {},
      "source": [
        "First, a bit of boilerplate: we'll download a short video from the web, and\nuse the ffmpeg CLI to repeat it 100 times. We'll end up with two videos: a\nshort video of approximately 13s and a long one of about 20 mins.\nYou can ignore that part and jump right below to `perf_creation`.\n\n"
      ]
    },
    {
      "cell_type": "code",
      "execution_count": null,
      "metadata": {
        "collapsed": false
      },
      "outputs": [],
      "source": [
        "import torch\nimport requests\nimport tempfile\nfrom pathlib import Path\nimport shutil\nimport subprocess\nfrom time import perf_counter_ns\n\n\n# Video source: https://www.pexels.com/video/dog-eating-854132/\n# License: CC0. Author: Coverr.\nurl = \"https://videos.pexels.com/video-files/854132/854132-sd_640_360_25fps.mp4\"\nresponse = requests.get(url, headers={\"User-Agent\": \"\"})\nif response.status_code != 200:\n    raise RuntimeError(f\"Failed to download video. {response.status_code = }.\")\n\ntemp_dir = tempfile.mkdtemp()\nshort_video_path = Path(temp_dir) / \"short_video.mp4\"\nwith open(short_video_path, 'wb') as f:\n    for chunk in response.iter_content():\n        f.write(chunk)\n\nlong_video_path = Path(temp_dir) / \"long_video.mp4\"\nffmpeg_command = [\n    \"ffmpeg\",\n    \"-stream_loop\", \"99\",  # repeat video 100 times\n    \"-i\", f\"{short_video_path}\",\n    \"-c\", \"copy\",\n    f\"{long_video_path}\"\n]\nsubprocess.run(ffmpeg_command, check=True, stdout=subprocess.PIPE, stderr=subprocess.PIPE)\n\nfrom torchcodec.decoders import VideoDecoder\nprint(f\"Short video duration: {VideoDecoder(short_video_path).metadata.duration_seconds} seconds\")\nprint(f\"Long video duration: {VideoDecoder(long_video_path).metadata.duration_seconds / 60} minutes\")"
      ]
    },
    {
      "cell_type": "markdown",
      "metadata": {},
      "source": [
        "\n## Performance: ``VideoDecoder`` creation\n\nIn terms of performance, the ``seek_mode`` parameter ultimately affects the\n**creation** of a :class:`~torchcodec.decoders.VideoDecoder` object. The\nlonger the video, the higher the performance gain.\n\n"
      ]
    },
    {
      "cell_type": "code",
      "execution_count": null,
      "metadata": {
        "collapsed": false
      },
      "outputs": [],
      "source": [
        "def bench(f, average_over=50, warmup=2, **f_kwargs):\n\n    for _ in range(warmup):\n        f(**f_kwargs)\n\n    times = []\n    for _ in range(average_over):\n        start = perf_counter_ns()\n        f(**f_kwargs)\n        end = perf_counter_ns()\n        times.append(end - start)\n\n    times = torch.tensor(times) * 1e-6  # ns to ms\n    std = times.std().item()\n    med = times.median().item()\n    print(f\"{med = :.2f}ms +- {std:.2f}\")\n\n\nprint(\"Creating a VideoDecoder object with seek_mode='exact' on a short video:\")\nbench(VideoDecoder, source=short_video_path, seek_mode=\"exact\")\nprint(\"Creating a VideoDecoder object with seek_mode='approximate' on a short video:\")\nbench(VideoDecoder, source=short_video_path, seek_mode=\"approximate\")\nprint()\nprint(\"Creating a VideoDecoder object with seek_mode='exact' on a long video:\")\nbench(VideoDecoder, source=long_video_path, seek_mode=\"exact\")\nprint(\"Creating a VideoDecoder object with seek_mode='approximate' on a long video:\")\nbench(VideoDecoder, source=long_video_path, seek_mode=\"approximate\")"
      ]
    },
    {
      "cell_type": "markdown",
      "metadata": {},
      "source": [
        "## Performance: frame decoding and clip sampling\n\nStrictly speaking the ``seek_mode`` parameter only affects the performance of\nthe :class:`~torchcodec.decoders.VideoDecoder` creation. It does not have a\ndirect effect on the performance of frame decoding or sampling.  **However**,\nbecause frame decoding and sampling patterns typically involve the creation of\nthe :class:`~torchcodec.decoders.VideoDecoder` (one per video), ``seek_mode``\nmay very well end up affecting the performance of decoding and samplers. For\nexample:\n\n"
      ]
    },
    {
      "cell_type": "code",
      "execution_count": null,
      "metadata": {
        "collapsed": false
      },
      "outputs": [],
      "source": [
        "from torchcodec import samplers\n\n\ndef sample_clips(seek_mode):\n    return samplers.clips_at_random_indices(\n        decoder=VideoDecoder(\n            source=long_video_path,\n            seek_mode=seek_mode\n        ),\n        num_clips=5,\n        num_frames_per_clip=2,\n    )\n\n\nprint(\"Sampling clips with seek_mode='exact':\")\nbench(sample_clips, seek_mode=\"exact\")\nprint(\"Sampling clips with seek_mode='approximate':\")\nbench(sample_clips, seek_mode=\"approximate\")"
      ]
    },
    {
      "cell_type": "markdown",
      "metadata": {},
      "source": [
        "## Accuracy: Metadata and frame retrieval\n\nWe've seen that using ``seek_mode=\"approximate\"`` can significantly speed up\nthe :class:`~torchcodec.decoders.VideoDecoder` creation. The price to pay for\nthat is that seeking won't always be as accurate as with\n``seek_mode=\"exact\"``. It can also affect the exactness of the metadata.\n\nHowever, in a lot of cases, you'll find that there will be no accuracy\ndifference between the two modes, which means that ``seek_mode=\"approximate\"``\nis a net win:\n\n"
      ]
    },
    {
      "cell_type": "code",
      "execution_count": null,
      "metadata": {
        "collapsed": false
      },
      "outputs": [],
      "source": [
        "print(\"Metadata of short video with seek_mode='exact':\")\nprint(VideoDecoder(short_video_path, seek_mode=\"exact\").metadata)\nprint(\"Metadata of short video with seek_mode='approximate':\")\nprint(VideoDecoder(short_video_path, seek_mode=\"approximate\").metadata)\n\nexact_decoder = VideoDecoder(short_video_path, seek_mode=\"exact\")\napprox_decoder = VideoDecoder(short_video_path, seek_mode=\"approximate\")\nfor i in range(len(exact_decoder)):\n    torch.testing.assert_close(\n        exact_decoder.get_frame_at(i).data,\n        approx_decoder.get_frame_at(i).data,\n        atol=0, rtol=0,\n    )\nprint(\"Frame seeking is the same for this video!\")"
      ]
    },
    {
      "cell_type": "markdown",
      "metadata": {},
      "source": [
        "## What is this doing under the hood?\n\nWith ``seek_mode=\"exact\"``, the :class:`~torchcodec.decoders.VideoDecoder`\nperforms a :term:`scan` when it is instantiated. The scan doesn't involve\ndecoding, but processes an entire file to infer more accurate metadata (like\nduration), and also builds an internal index of frames and key-frames. This\ninternal index is potentially more accurate than the one in the file's\nheaders, which leads to more accurate seeking behavior.\nWithout the scan, TorchCodec relies only on the metadata contained in the\nfile, which may not always be as accurate.\n\n## Which mode should I use?\n\nThe general rule of thumb is as follows:\n\n- If you really care about exactness of frame seeking, use \"exact\".\n- If you can sacrifice exactness of seeking for speed, which is usually the\n  case when doing clip sampling, use \"approximate\".\n- If your videos don't have variable framerate and their metadata is correct,\n  then \"approximate\" mode is a net win: it will be just as accurate as the\n  \"exact\" mode while still being significantly faster.\n\n"
      ]
    },
    {
      "cell_type": "code",
      "execution_count": null,
      "metadata": {
        "collapsed": false
      },
      "outputs": [],
      "source": [
        "shutil.rmtree(temp_dir)"
      ]
    }
  ],
  "metadata": {
    "kernelspec": {
      "display_name": "Python 3",
      "language": "python",
      "name": "python3"
    },
    "language_info": {
      "codemirror_mode": {
        "name": "ipython",
        "version": 3
      },
      "file_extension": ".py",
      "mimetype": "text/x-python",
      "name": "python",
      "nbconvert_exporter": "python",
      "pygments_lexer": "ipython3",
      "version": "3.9.23"
    }
  },
  "nbformat": 4,
  "nbformat_minor": 0
}