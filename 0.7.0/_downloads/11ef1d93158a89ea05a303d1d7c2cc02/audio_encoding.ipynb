{
  "cells": [
    {
      "cell_type": "markdown",
      "metadata": {},
      "source": [
        "\n# Encoding audio samples with AudioEncoder\n\nIn this example, we'll learn how to encode audio samples to a file or to raw\nbytes using the :class:`~torchcodec.encoders.AudioEncoder` class.\n"
      ]
    },
    {
      "cell_type": "markdown",
      "metadata": {},
      "source": [
        "Let's first generate some samples to be encoded. The data to be encoded could\nalso just come from an :class:`~torchcodec.decoders.AudioDecoder`!\n\n"
      ]
    },
    {
      "cell_type": "code",
      "execution_count": null,
      "metadata": {
        "collapsed": false
      },
      "outputs": [],
      "source": [
        "import torch\nfrom IPython.display import Audio as play_audio\n\n\ndef make_sinewave() -> tuple[torch.Tensor, int]:\n    freq_A = 440  # Hz\n    sample_rate = 16000  # Hz\n    duration_seconds = 3  # seconds\n    t = torch.linspace(0, duration_seconds, int(sample_rate * duration_seconds), dtype=torch.float32)\n    return torch.sin(2 * torch.pi * freq_A * t), sample_rate\n\n\nsamples, sample_rate = make_sinewave()\n\nprint(f\"Encoding samples with {samples.shape = } and {sample_rate = }\")\nplay_audio(samples, rate=sample_rate)"
      ]
    },
    {
      "cell_type": "markdown",
      "metadata": {},
      "source": [
        "We first instantiate an :class:`~torchcodec.encoders.AudioEncoder`. We pass it\nthe samples to be encoded. The samples must be a 2D tensors of shape\n``(num_channels, num_samples)``, or in this case, a 1D tensor where\n``num_channels`` is assumed to be 1. The values must be float values\nnormalized in ``[-1, 1]``: this is also what the\n:class:`~torchcodec.decoders.AudioDecoder` would return.\n\n<div class=\"alert alert-info\"><h4>Note</h4><p>The ``sample_rate`` parameter corresponds to the sample rate of the\n    *input*, not the desired encoded sample rate.</p></div>\n\n"
      ]
    },
    {
      "cell_type": "code",
      "execution_count": null,
      "metadata": {
        "collapsed": false
      },
      "outputs": [],
      "source": [
        "from torchcodec.encoders import AudioEncoder\n\nencoder = AudioEncoder(samples=samples, sample_rate=sample_rate)"
      ]
    },
    {
      "cell_type": "markdown",
      "metadata": {},
      "source": [
        ":class:`~torchcodec.encoders.AudioEncoder` supports encoding samples into a\nfile via the :meth:`~torchcodec.encoders.AudioEncoder.to_file` method, or to\nraw bytes via :meth:`~torchcodec.encoders.AudioEncoder.to_tensor`.  For the\npurpose of this tutorial we'll use\n:meth:`~torchcodec.encoders.AudioEncoder.to_tensor`, so that we can easily\nre-decode the encoded samples and check their properies. The\n:meth:`~torchcodec.encoders.AudioEncoder.to_file` method works very similarly.\n\n"
      ]
    },
    {
      "cell_type": "code",
      "execution_count": null,
      "metadata": {
        "collapsed": false
      },
      "outputs": [],
      "source": [
        "encoded_samples = encoder.to_tensor(format=\"mp3\")\nprint(f\"{encoded_samples.shape = }, {encoded_samples.dtype = }\")"
      ]
    },
    {
      "cell_type": "markdown",
      "metadata": {},
      "source": [
        "That's it!\n\nNow that we have our encoded data, we can decode it back, to make sure it\nlooks and sounds as expected:\n\n"
      ]
    },
    {
      "cell_type": "code",
      "execution_count": null,
      "metadata": {
        "collapsed": false
      },
      "outputs": [],
      "source": [
        "from torchcodec.decoders import AudioDecoder\n\nsamples_back = AudioDecoder(encoded_samples).get_all_samples()\n\nprint(samples_back)\nplay_audio(samples_back.data, rate=samples_back.sample_rate)"
      ]
    },
    {
      "cell_type": "markdown",
      "metadata": {},
      "source": [
        "The encoder supports some encoding options that allow you to change how to\ndata is encoded. For example, we can decide to encode our mono data (1\nchannel) into stereo data (2 channels), and to specify an output sample rate:\n\n"
      ]
    },
    {
      "cell_type": "code",
      "execution_count": null,
      "metadata": {
        "collapsed": false
      },
      "outputs": [],
      "source": [
        "desired_sample_rate = 32000\nencoded_samples = encoder.to_tensor(format=\"wav\", num_channels=2, sample_rate=desired_sample_rate)\n\nstereo_samples_back = AudioDecoder(encoded_samples).get_all_samples()\n\nprint(stereo_samples_back)\nplay_audio(stereo_samples_back.data, rate=desired_sample_rate)"
      ]
    },
    {
      "cell_type": "markdown",
      "metadata": {},
      "source": [
        "Check the docstring of the encoding methods to learn about the different\nencoding options.\n\n"
      ]
    }
  ],
  "metadata": {
    "kernelspec": {
      "display_name": "Python 3",
      "language": "python",
      "name": "python3"
    },
    "language_info": {
      "codemirror_mode": {
        "name": "ipython",
        "version": 3
      },
      "file_extension": ".py",
      "mimetype": "text/x-python",
      "name": "python",
      "nbconvert_exporter": "python",
      "pygments_lexer": "ipython3",
      "version": "3.9.23"
    }
  },
  "nbformat": 4,
  "nbformat_minor": 0
}