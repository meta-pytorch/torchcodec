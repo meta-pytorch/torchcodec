{
  "cells": [
    {
      "cell_type": "markdown",
      "metadata": {},
      "source": [
        "\n# Decoding audio streams with AudioDecoder\n\nIn this example, we'll learn how to decode an audio file using the\n:class:`~torchcodec.decoders.AudioDecoder` class.\n"
      ]
    },
    {
      "cell_type": "markdown",
      "metadata": {},
      "source": [
        "First, a bit of boilerplate: we'll download an audio file from the web and\ndefine an audio playing utility.  You can ignore that part and jump right\nbelow to `creating_decoder_audio`.\n\n"
      ]
    },
    {
      "cell_type": "code",
      "execution_count": null,
      "metadata": {
        "collapsed": false
      },
      "outputs": [],
      "source": [
        "import requests\nfrom IPython.display import Audio\n\n\ndef play_audio(samples):\n    return Audio(samples.data, rate=samples.sample_rate)\n\n\n# Audio source is CC0: https://opengameart.org/content/town-theme-rpg\n# Attribution: cynicmusic.com pixelsphere.org\nurl = \"https://opengameart.org/sites/default/files/TownTheme.mp3\"\nresponse = requests.get(url, headers={\"User-Agent\": \"\"})\nif response.status_code != 200:\n    raise RuntimeError(f\"Failed to download video. {response.status_code = }.\")\n\nraw_audio_bytes = response.content"
      ]
    },
    {
      "cell_type": "markdown",
      "metadata": {},
      "source": [
        "\n## Creating a decoder\n\nWe can now create a decoder from the raw (encoded) audio bytes. You can of\ncourse use a local audio file and pass the path as input. You can also decode\naudio streams from videos!\n\n"
      ]
    },
    {
      "cell_type": "code",
      "execution_count": null,
      "metadata": {
        "collapsed": false
      },
      "outputs": [],
      "source": [
        "from torchcodec.decoders import AudioDecoder\n\ndecoder = AudioDecoder(raw_audio_bytes)"
      ]
    },
    {
      "cell_type": "markdown",
      "metadata": {},
      "source": [
        "The has not yet been decoded by the decoder, but we already have access to\nsome metadata via the ``metadata`` attribute which is an\n:class:`~torchcodec.decoders.AudioStreamMetadata` object.\n\n"
      ]
    },
    {
      "cell_type": "code",
      "execution_count": null,
      "metadata": {
        "collapsed": false
      },
      "outputs": [],
      "source": [
        "print(decoder.metadata)"
      ]
    },
    {
      "cell_type": "markdown",
      "metadata": {},
      "source": [
        "## Decoding samples\n\nTo get decoded samples, we just need to call the\n:meth:`~torchcodec.decoders.AudioDecoder.get_all_samples` method,\nwhich returns an :class:`~torchcodec.AudioSamples` object:\n\n"
      ]
    },
    {
      "cell_type": "code",
      "execution_count": null,
      "metadata": {
        "collapsed": false
      },
      "outputs": [],
      "source": [
        "samples = decoder.get_all_samples()\n\nprint(samples)\nplay_audio(samples)"
      ]
    },
    {
      "cell_type": "markdown",
      "metadata": {},
      "source": [
        "The ``.data`` field is a tensor of shape ``(num_channels, num_samples)`` and\nof float dtype with values in [-1, 1].\n\nThe ``.pts_seconds`` field indicates the starting time of the output samples.\nHere it's 0.025 seconds, even though we asked for samples starting from 0. Not\nall streams start exactly at 0! This is not a bug in TorchCodec, this is a\nproperty of the file that was defined when it was encoded.\n\n## Specifying a range\n\nIf we don't need all the samples, we can use\n:meth:`~torchcodec.decoders.AudioDecoder.get_samples_played_in_range` to\ndecode the samples within a custom range:\n\n"
      ]
    },
    {
      "cell_type": "code",
      "execution_count": null,
      "metadata": {
        "collapsed": false
      },
      "outputs": [],
      "source": [
        "samples = decoder.get_samples_played_in_range(start_seconds=10, stop_seconds=70)\n\nprint(samples)\nplay_audio(samples)"
      ]
    },
    {
      "cell_type": "markdown",
      "metadata": {},
      "source": [
        "## Custom sample rate\n\nWe can also decode the samples into a desired sample rate using the\n``sample_rate`` parameter of :class:`~torchcodec.decoders.AudioDecoder`. The\nouput will sound similar, but note that the number of samples greatly\ndecreased:\n\n"
      ]
    },
    {
      "cell_type": "code",
      "execution_count": null,
      "metadata": {
        "collapsed": false
      },
      "outputs": [],
      "source": [
        "decoder = AudioDecoder(raw_audio_bytes, sample_rate=16_000)\nsamples = decoder.get_all_samples()\n\nprint(samples)\nplay_audio(samples)"
      ]
    }
  ],
  "metadata": {
    "kernelspec": {
      "display_name": "Python 3",
      "language": "python",
      "name": "python3"
    },
    "language_info": {
      "codemirror_mode": {
        "name": "ipython",
        "version": 3
      },
      "file_extension": ".py",
      "mimetype": "text/x-python",
      "name": "python",
      "nbconvert_exporter": "python",
      "pygments_lexer": "ipython3",
      "version": "3.9.23"
    }
  },
  "nbformat": 4,
  "nbformat_minor": 0
}